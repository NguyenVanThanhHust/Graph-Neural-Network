{
 "cells": [
  {
   "attachments": {},
   "cell_type": "markdown",
   "metadata": {},
   "source": [
    "Source: https://medium.com/stanford-cs224w/predicting-airport-cancellations-using-gnns-bbce20d725e3"
   ]
  },
  {
   "cell_type": "code",
   "execution_count": 5,
   "metadata": {},
   "outputs": [],
   "source": [
    "import os\n",
    "from os.path import join, isdir, isfile\n",
    "import pandas as pd\n",
    "import numpy as np"
   ]
  },
  {
   "cell_type": "code",
   "execution_count": 2,
   "metadata": {},
   "outputs": [],
   "source": [
    "DATA_FOLDER = \"../../../input/CS224W Project - Predicting Airport Cancellations Using GNNs/airport_data\""
   ]
  },
  {
   "cell_type": "code",
   "execution_count": 3,
   "metadata": {},
   "outputs": [
    {
     "data": {
      "text/plain": [
       "True"
      ]
     },
     "execution_count": 3,
     "metadata": {},
     "output_type": "execute_result"
    }
   ],
   "source": [
    "os.path.isdir(DATA_FOLDER)\n",
    "\n",
    "airport_cancellations = pd.read_csv(join(DATA_FOLDER, \"airport_cancellations.csv\"))\n",
    "airport_locations = pd.read_csv(join(DATA_FOLDER, \"airport_locations.csv\"))\n",
    "airport_operations = pd.read_csv(join(DATA_FOLDER, \"airport_operations.csv\"))\n",
    "flight_routes = pd.read_csv(join(DATA_FOLDER, \"flight_routes.csv\"))\n",
    "usa_airports = pd.read_csv(join(DATA_FOLDER, \"usa_airports.csv\"))\n"
   ]
  },
  {
   "cell_type": "code",
   "execution_count": null,
   "metadata": {},
   "outputs": [],
   "source": [
    "airport_data = np.load(join(DATA_FOLDER, \"airport_data.npz\"))"
   ]
  },
  {
   "cell_type": "code",
   "execution_count": null,
   "metadata": {},
   "outputs": [],
   "source": []
  }
 ],
 "metadata": {
  "kernelspec": {
   "display_name": "work_env",
   "language": "python",
   "name": "python3"
  },
  "language_info": {
   "codemirror_mode": {
    "name": "ipython",
    "version": 3
   },
   "file_extension": ".py",
   "mimetype": "text/x-python",
   "name": "python",
   "nbconvert_exporter": "python",
   "pygments_lexer": "ipython3",
   "version": "3.8.16"
  },
  "orig_nbformat": 4
 },
 "nbformat": 4,
 "nbformat_minor": 2
}
